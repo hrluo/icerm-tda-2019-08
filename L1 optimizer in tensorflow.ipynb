{
 "cells": [
  {
   "cell_type": "markdown",
   "metadata": {},
   "source": [
    "# Code exploring using TensorFlow for L1 gradient descent\n",
    "\n",
    "The basic problem we derive for $L_1$-smoothing of a circular coordinate function is this:\n",
    "\n",
    "$$\n",
    "\\min_{z\\in\\mathbb{R}^m} \\|f - \\delta z\\|_1\n",
    "$$\n",
    "\n",
    "where $f\\in\\mathbb{R}^n$ and $\\delta\\in\\mathbb{R}^{n\\times m}$."
   ]
  },
  {
   "cell_type": "code",
   "execution_count": 1,
   "metadata": {},
   "outputs": [
    {
     "name": "stdout",
     "output_type": "stream",
     "text": [
      "Populating the interactive namespace from numpy and matplotlib\n"
     ]
    }
   ],
   "source": [
    "%pylab inline\n",
    "import tensorflow as tf"
   ]
  },
  {
   "cell_type": "code",
   "execution_count": 10,
   "metadata": {},
   "outputs": [],
   "source": [
    "n = 10\n",
    "m = 7\n",
    "\n",
    "f = random.rand(n,1)\n",
    "bdry = random.rand(n,m)"
   ]
  },
  {
   "cell_type": "code",
   "execution_count": 3,
   "metadata": {},
   "outputs": [
    {
     "name": "stdout",
     "output_type": "stream",
     "text": [
      "WARNING:tensorflow:From /usr/local/lib/python3.7/site-packages/tensorflow/python/framework/op_def_library.py:263: colocate_with (from tensorflow.python.framework.ops) is deprecated and will be removed in a future version.\n",
      "Instructions for updating:\n",
      "Colocations handled automatically by placer.\n"
     ]
    }
   ],
   "source": [
    "Z = tf.get_variable(\"Z\", (m,1), dtype=tf.float32)\n",
    "F = tf.placeholder(dtype=tf.float32, shape=(n,1))\n",
    "B = tf.placeholder(dtype=tf.float32, shape=(n,m))\n",
    "\n",
    "cost = tf.reduce_sum(tf.abs(F - B@Z))"
   ]
  },
  {
   "cell_type": "code",
   "execution_count": 29,
   "metadata": {},
   "outputs": [],
   "source": [
    "optimizer = tf.train.AdamOptimizer(.01)\n",
    "train = optimizer.minimize(cost)"
   ]
  },
  {
   "cell_type": "code",
   "execution_count": 30,
   "metadata": {},
   "outputs": [],
   "source": [
    "init = tf.global_variables_initializer()"
   ]
  },
  {
   "cell_type": "code",
   "execution_count": 31,
   "metadata": {},
   "outputs": [
    {
     "name": "stdout",
     "output_type": "stream",
     "text": [
      "23.369673\n",
      "0.68241316\n",
      "0.6234125\n",
      "0.62704337\n",
      "0.62200904\n",
      "0.6217623\n",
      "0.61961985\n",
      "0.6211552\n",
      "0.6219791\n",
      "0.620607\n",
      "0.63758004\n",
      "0.62033606\n",
      "0.62997276\n",
      "0.64450383\n",
      "0.6231892\n",
      "0.64191693\n",
      "0.6213459\n",
      "0.6289191\n",
      "0.623965\n",
      "0.61770236\n",
      "0.62300646\n",
      "0.6327509\n",
      "0.6251175\n",
      "0.62284005\n",
      "0.6251414\n",
      "0.6204162\n",
      "0.6201712\n",
      "0.6240741\n",
      "0.6320005\n",
      "0.62771547\n",
      "0.62889624\n",
      "0.6243453\n",
      "0.6231186\n",
      "0.6420158\n",
      "0.63536537\n",
      "0.6437115\n",
      "0.6215529\n",
      "0.63147354\n",
      "0.62027895\n",
      "0.62208927\n",
      "0.62869173\n",
      "0.622978\n",
      "0.62802935\n",
      "0.6203756\n",
      "0.62229323\n",
      "0.63339764\n",
      "0.6374537\n",
      "0.64271843\n",
      "0.62554413\n",
      "0.634734\n",
      "0.619676\n",
      "0.6211247\n",
      "0.6251267\n",
      "0.6287562\n",
      "0.630825\n",
      "0.6201214\n",
      "0.62548554\n",
      "0.620965\n",
      "0.6334548\n",
      "0.62115014\n",
      "0.634176\n",
      "0.63023365\n",
      "0.6194874\n",
      "0.6207543\n",
      "0.6354746\n",
      "0.625667\n",
      "0.62861997\n",
      "0.6533232\n",
      "0.627243\n",
      "0.63170886\n",
      "0.6216239\n",
      "0.6220674\n",
      "0.6209169\n",
      "0.62153554\n",
      "0.636845\n",
      "0.6237682\n",
      "0.6266388\n",
      "0.6222575\n",
      "0.6358247\n",
      "0.6235962\n",
      "0.6395427\n",
      "0.62461305\n",
      "0.63384926\n",
      "0.62919044\n",
      "0.6322047\n",
      "0.6411144\n",
      "0.63226265\n",
      "0.6295188\n",
      "0.63034993\n",
      "0.6260761\n",
      "0.627103\n",
      "0.6239498\n",
      "0.6282584\n",
      "0.6206911\n",
      "0.65391517\n",
      "0.62049866\n",
      "0.6197895\n",
      "0.62222534\n",
      "0.6201894\n",
      "0.62191963\n"
     ]
    },
    {
     "data": {
      "text/plain": [
       "(array([[ 0.33051676],\n",
       "        [ 0.39910465],\n",
       "        [ 1.4803438 ],\n",
       "        [ 0.66708744],\n",
       "        [-0.759615  ],\n",
       "        [-0.22034779],\n",
       "        [-0.5423467 ]], dtype=float32), 0.6242684926310439)"
      ]
     },
     "execution_count": 31,
     "metadata": {},
     "output_type": "execute_result"
    }
   ],
   "source": [
    "Zv = None\n",
    "with tf.Session() as session:\n",
    "    session.run(init)\n",
    "    for i in range(100000):\n",
    "        session.run(train, {F:f, B:bdry})\n",
    "        if i%1000 == 0:\n",
    "            print(session.run(cost, {F:f, B:bdry}))\n",
    "    Zv = session.run(Z)\n",
    "Zv, abs(f - bdry@Zv).sum()"
   ]
  },
  {
   "cell_type": "code",
   "execution_count": null,
   "metadata": {},
   "outputs": [],
   "source": []
  }
 ],
 "metadata": {
  "kernelspec": {
   "display_name": "Python 3",
   "language": "python",
   "name": "python3"
  },
  "language_info": {
   "codemirror_mode": {
    "name": "ipython",
    "version": 3
   },
   "file_extension": ".py",
   "mimetype": "text/x-python",
   "name": "python",
   "nbconvert_exporter": "python",
   "pygments_lexer": "ipython3",
   "version": "3.7.2"
  }
 },
 "nbformat": 4,
 "nbformat_minor": 2
}
