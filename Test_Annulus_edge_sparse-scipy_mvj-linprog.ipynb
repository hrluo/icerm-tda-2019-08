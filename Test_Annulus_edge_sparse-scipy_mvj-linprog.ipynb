{
 "cells": [
  {
   "cell_type": "markdown",
   "metadata": {},
   "source": [
    "# Testing code for cost function \"elasticity\" on the annulus"
   ]
  },
  {
   "cell_type": "code",
   "execution_count": 2,
   "metadata": {},
   "outputs": [
    {
     "name": "stdout",
     "output_type": "stream",
     "text": [
      "Populating the interactive namespace from numpy and matplotlib\n"
     ]
    }
   ],
   "source": [
    "%pylab inline\n",
    "\n",
    "import dionysus"
   ]
  },
  {
   "cell_type": "markdown",
   "metadata": {},
   "source": [
    "## Constructing the double annulus and combuting the cocycle"
   ]
  },
  {
   "cell_type": "code",
   "execution_count": 45,
   "metadata": {},
   "outputs": [
    {
     "data": {
      "text/plain": [
       "(-3.5782027754757046,\n",
       " 3.5382928728762377,\n",
       " -2.160598772721965,\n",
       " 2.1989485807480342)"
      ]
     },
     "execution_count": 45,
     "metadata": {},
     "output_type": "execute_result"
    },
    {
     "data": {
      "image/png": "[encoded data removed]",
      "text/plain": [
       "<Figure size 432x288 with 1 Axes>"
      ]
     },
     "metadata": {
      "needs_background": "light"
     },
     "output_type": "display_data"
    }
   ],
   "source": [
    "R = 1.5\n",
    "d = .5\n",
    "n = 33\n",
    "\n",
    "# r in [0,1]\n",
    "# th in [0,2pi)\n",
    "\n",
    "from math import sin, cos, pi\n",
    "from random import uniform\n",
    "def rand_annulus_pt():\n",
    "    r = uniform(0,1)\n",
    "    th = uniform(0,2*pi)\n",
    "    return (R+r*d) * cos(th), (R+r*d) * sin(th)\n",
    "annulus = r_[np.array([(rand_annulus_pt()) for x in range(n)]) + [[-R,0]],\n",
    "             np.array([(rand_annulus_pt()) for x in range(n)]) + [[R,0]]]\n",
    "plt.scatter(*annulus.T)\n",
    "plt.axis('equal')"
   ]
  },
  {
   "cell_type": "code",
   "execution_count": 46,
   "metadata": {},
   "outputs": [],
   "source": [
    "prime = 19\n",
    "vr = dionysus.fill_rips(annulus, 2, 4.)\n",
    "cp = dionysus.cohomology_persistence(vr, prime, True)\n",
    "dgms = dionysus.init_diagrams(cp, vr)"
   ]
  },
  {
   "cell_type": "code",
   "execution_count": 47,
   "metadata": {},
   "outputs": [
    {
     "data": {
      "image/png": "[encoded data removed]",
      "text/plain": [
       "<Figure size 432x288 with 1 Axes>"
      ]
     },
     "metadata": {
      "needs_background": "light"
     },
     "output_type": "display_data"
    }
   ],
   "source": [
    "dionysus.plot.plot_bars(dgms[1], show=True)"
   ]
  },
  {
   "cell_type": "markdown",
   "metadata": {},
   "source": [
    "# Scipy Test"
   ]
  },
  {
   "cell_type": "code",
   "execution_count": 48,
   "metadata": {},
   "outputs": [],
   "source": [
    "from scipy.optimize import minimize, linprog"
   ]
  },
  {
   "cell_type": "code",
   "execution_count": 49,
   "metadata": {},
   "outputs": [],
   "source": [
    "import scipy.sparse\n",
    "D = {}\n",
    "data = {}\n",
    "indexing = {}\n",
    "ix = [0]*50\n",
    "thr = 1\n",
    "\n",
    "bars = [bar for bar in dgms[1] if bar.death > thr and bar.birth < thr]\n",
    "cocycles = [cp.cocycle(bar.data) for bar in bars]\n",
    "vr_thr = dionysus.Filtration([s for s in vr if s.data <= thr])\n",
    "coords = [dionysus.smooth(vr_thr, cocycle, prime) for cocycle in cocycles]\n",
    "\n",
    "for s in vr:\n",
    "    if s.dimension() != 1:\n",
    "        continue\n",
    "    D.setdefault(s.dimension(),[[],[]])\n",
    "    data.setdefault(s.dimension(),[])\n",
    "    indexing.setdefault(s.dimension(),{})\n",
    "    indexing.setdefault(s.dimension()-1,{})\n",
    "    if not s in indexing[s.dimension()]:\n",
    "        indexing[s.dimension()][s] = ix[s.dimension()]\n",
    "        ix[s.dimension()] += 1\n",
    "    for dat, k in enumerate(s.boundary()): \n",
    "        if not k in indexing[s.dimension()-1]:\n",
    "            indexing[s.dimension()-1][k] = ix[s.dimension()-1]\n",
    "            ix[s.dimension()-1] += 1\n",
    "        D[s.dimension()][0].append(indexing[s.dimension()][s]) #rows\n",
    "        D[s.dimension()][1].append(indexing[s.dimension()-1][k]) #cols\n",
    "        data[s.dimension()].append(pow(-1., dat))\n",
    "import scipy as sp\n",
    "CBd = [sp.sparse.csr_matrix((data[d], (D[d][0], D[d][1]))).todense() for d in range(1,max(D.keys())+1)]"
   ]
  },
  {
   "cell_type": "code",
   "execution_count": 50,
   "metadata": {},
   "outputs": [
    {
     "data": {
      "text/plain": [
       "268.28715958837836"
      ]
     },
     "execution_count": 50,
     "metadata": {},
     "output_type": "execute_result"
    }
   ],
   "source": [
    "norm(f)"
   ]
  },
  {
   "cell_type": "code",
   "execution_count": 83,
   "metadata": {},
   "outputs": [
    {
     "data": {
      "text/plain": [
       "(-1.0, 1.0)"
      ]
     },
     "execution_count": 83,
     "metadata": {},
     "output_type": "execute_result"
    }
   ],
   "source": [
    "l2_cocycle = [0 for _ in range(len(coords[0]))]\n",
    "for i, coeff in enumerate(coords[0]):\n",
    "    l2_cocycle[indexing[0][dionysus.Simplex([i],0)]] = coeff\n",
    "l2_cocycle = np.array(l2_cocycle)\n",
    "bdry = CBd[0]\n",
    "n, m = CBd[0].shape\n",
    "f = np.zeros((n,1))\n",
    "for c2 in cocycles[0]:\n",
    "    f[indexing[1][vr[c2.index]]] = mod(c2.element + (prime//2), prime) - (prime//2)\n",
    "f.min(), f.max()"
   ]
  },
  {
   "cell_type": "markdown",
   "metadata": {},
   "source": [
    "Derive gradient for cost function:\n",
    "\n",
    "$$\n",
    "c = \\color{blue}{\\|f-\\delta z\\|_2} + \\color{green}{\\lambda \\|\\delta z\\|_2}\n",
    "$$\n",
    "\n",
    "We compute the gradient of each term separately: \n",
    "\n",
    "$$\n",
    "\\begin{align*}\n",
    "\\color{blue}{\\left[(f-\\delta z)^2\\right]_j}\n",
    "  &= f_j^2 - 2 f_j\\sum_i \\delta_{ji}z_i + \\left(\\sum_i \\delta_{ji}z_i\\right)^2 \\\\\n",
    "\\frac{\\partial\\|f-\\delta z\\|_2}{\\partial z_k} \n",
    "  &= \\sum_j\\left[0 - 2f_j\\delta_{jk}z_k + \\frac{\\partial}{\\partial z_k}\\left(\\delta_{jk}^2z_k^2 + \\sum_{i\\neq k} 2\\delta_{jk}\\delta_{ji}z_kz_i\\right)\\right] \\\\\n",
    "  &= \\sum_j\\left[-2f_j\\delta_{jk}z_k + 2\\delta_{jk}^2z_k + \\sum_{i\\neq k}2\\delta_{jk}\\delta_{ji}z_i\\right] \\\\\n",
    "  &= \\sum_j\\left[-2f_j\\delta_{jk}+2\\delta_{jk}\\sum_i\\delta_{ji}z_i\\right] \\\\\n",
    "  &= \\sum_j2\\delta_{jk}\\left[\\sum_i\\delta_{ji}z_i-f_jz_k\\right]\n",
    "\\end{align*}\n",
    "$$\n",
    "\n",
    "And\n",
    "\n",
    "$$\n",
    "\\begin{align*}\n",
    "\\color{green}{\\frac{\\partial\\|\\left[\\sum_i\\delta_{ji}z_i\\right]_j\\|_p}{\\partial z_k}}\n",
    "  &= \\frac{\\partial}{\\partial z_k}\\left[\\sum_j b_j^p\\right]^{1/p} \\\\\n",
    "  &= (1/p)\\left[\\sum_j b_j^p\\right]^{1/p-1}\\frac{\\partial}{\\partial z_k}\\left[\\sum_j b_j^p\\right] \\\\\n",
    "  &= \\dots \\\\\n",
    "  &= \\frac{1}{\\|\\partial z\\|_2}\n",
    "  \\begin{pmatrix}\n",
    "  \\delta_{0k} & \\dots & \\delta_{nk} \n",
    "  \\end{pmatrix}\n",
    "  \\begin{pmatrix}\n",
    "  b_0 \\\\ \\vdots \\\\ b_n\n",
    "  \\end{pmatrix}\n",
    "\\end{align*}\n",
    "$$\n",
    "\n",
    "Combining them both into a matrix form yields\n",
    "\n",
    "$$\n",
    "\\nabla cost =\n",
    "\\delta^T\\delta z \\left(2 + \\frac{\\lambda}{\\|\\delta z\\|_2}\\right)-2\\delta^T f\n",
    "\\qquad\n",
    "H cost = \\delta^T\\delta\\left(2+\\frac{\\lambda}{\\|\\delta z\\|_2}\\right) - 2\\frac{\\lambda}{\\|\\delta z\\|_2^3}\\delta^T\\delta z (\\delta z)^T\\delta - 2 (\\delta^T f)\n",
    "$$"
   ]
  },
  {
   "cell_type": "code",
   "execution_count": 84,
   "metadata": {},
   "outputs": [],
   "source": [
    "def cost(Z,L = 1.,F = f, B = bdry):\n",
    "    return np.linalg.norm(F - B*Z.reshape(Z.shape[0],1), ord=2) + L*np.linalg.norm(B*Z.reshape(Z.shape[0],1),ord=2)\n",
    "\n",
    "def grad(Z,L = 1.,F = f, B = bdry):\n",
    "    coeff_A = 2 + L/np.linalg.norm(B*Z.reshape(Z.shape[0],1),ord=2)\n",
    "    dz = B*Z.reshape(Z.shape[0],1)\n",
    "    return np.array(coeff_A * B.T * dz - 2 * B.T * F).flatten()"
   ]
  },
  {
   "cell_type": "code",
   "execution_count": 85,
   "metadata": {},
   "outputs": [
    {
     "data": {
      "text/plain": [
       "13.905550833833471"
      ]
     },
     "execution_count": 85,
     "metadata": {},
     "output_type": "execute_result"
    }
   ],
   "source": [
    "cost(l2_cocycle)"
   ]
  },
  {
   "cell_type": "code",
   "execution_count": 86,
   "metadata": {},
   "outputs": [],
   "source": [
    "res = minimize(cost, l2_cocycle, method='BFGS', jac = grad)"
   ]
  },
  {
   "cell_type": "code",
   "execution_count": 87,
   "metadata": {},
   "outputs": [
    {
     "data": {
      "text/plain": [
       "Text(0.5, 1.0, 'smoothed values mod 1')"
      ]
     },
     "execution_count": 87,
     "metadata": {},
     "output_type": "execute_result"
    },
    {
     "data": {
      "image/png": "[encoded data removed]",
      "text/plain": [
       "<Figure size 432x288 with 2 Axes>"
      ]
     },
     "metadata": {
      "needs_background": "light"
     },
     "output_type": "display_data"
    }
   ],
   "source": [
    "Zv = np.array(res.x).reshape(-1,1)\n",
    "messed_ix = [indexing[0][dionysus.Simplex([n],0)] for n in range(Zv.shape[0])]\n",
    "color = np.mod(Zv.T[:,messed_ix],1)\n",
    "scatter(*annulus.T, c=color[0], cmap=\"hsv\")\n",
    "plt.colorbar()\n",
    "plt.axis('equal')\n",
    "plt.title('smoothed values mod 1')"
   ]
  },
  {
   "cell_type": "markdown",
   "metadata": {},
   "source": [
    "# Linear Programming approach\n",
    "\n",
    "By now we have defined:\n",
    "\n",
    "* `f` the cocycle\n",
    "* `bdry` the boundary matrix\n",
    "\n",
    "and our minimizing problem is\n",
    "\n",
    "``\n",
    "min(z, |f + bdry @ z|_p)\n",
    "``\n",
    "\n",
    "We are using the linear programming translations described here: https://math.stackexchange.com/questions/706935/minimizing-l-infty-norm-using-gradient-descent\n",
    "\n",
    "## $L_1$\n",
    "\n",
    "\n",
    "$$\n",
    "\\min_z \\|f + Bz\\|_1\n",
    "$$\n",
    "\n",
    "is equivalent to\n",
    "\n",
    "$$\n",
    "\\min_{z,s,t} \\sum_i s_i+t_i\n",
    "\\quad\\text{subject to}\n",
    "f+Bz = s-t, (s,t) \\geq 0\n",
    "$$"
   ]
  },
  {
   "cell_type": "markdown",
   "metadata": {},
   "source": [
    "For $L_1$, the equality constraint translates to:\n",
    "\n",
    "$$\n",
    "\\begin{bmatrix}\n",
    "B & \\mathbb{1} & -\\mathbb{1}\n",
    "\\end{bmatrix}\n",
    "\\begin{bmatrix}\n",
    "z \\\\ s \\\\ t\n",
    "\\end{bmatrix}\n",
    "= f\n",
    "$$"
   ]
  },
  {
   "cell_type": "code",
   "execution_count": 88,
   "metadata": {},
   "outputs": [],
   "source": [
    "### L_1\n",
    "\n",
    "## z, s, t concatenate to form the vector zst to be optimized\n",
    "## Aeq encodes the equality, which is rewritten to Bz - t + s = -f\n",
    "\n",
    "zst = r_[zeros((bdry.shapse[1],)), ones((bdry.shape[1]*2,))] # the vector zst\n",
    "Aeq = c_[bdry, ones_like(bdry), -ones_like(bdry)]\n",
    "beq = f"
   ]
  },
  {
   "cell_type": "code",
   "execution_count": 89,
   "metadata": {},
   "outputs": [
    {
     "data": {
      "text/plain": [
       "((198,), (1610, 66), (1610, 1), (1610, 198), (1610, 1))"
      ]
     },
     "execution_count": 89,
     "metadata": {},
     "output_type": "execute_result"
    }
   ],
   "source": [
    "zst.shape, bdry.shape, f.shape, Aeq.shape, beq.shape"
   ]
  },
  {
   "cell_type": "code",
   "execution_count": 90,
   "metadata": {},
   "outputs": [
    {
     "name": "stderr",
     "output_type": "stream",
     "text": [
      "/usr/local/lib/python3.7/site-packages/scipy/optimize/_linprog_util.py:704: OptimizeWarning: A_eq does not appear to be of full row rank. To improve performance, check the problem formulation for redundant equality constraints.\n",
      "  warn(redundancy_warning, OptimizeWarning)\n"
     ]
    }
   ],
   "source": [
    "result = linprog(zst,\n",
    "        A_eq = Aeq,\n",
    "        b_eq = f,\n",
    "        bounds = [(None,None)]*bdry.shape[1] + [(0,None)]*(2*bdry.shape[1])\n",
    "       )"
   ]
  },
  {
   "cell_type": "code",
   "execution_count": 91,
   "metadata": {},
   "outputs": [
    {
     "data": {
      "text/plain": [
       "(     con: array([0., 0., 0., ..., 0., 0., 0.])\n",
       "      fun: 0.0\n",
       "  message: 'There is a linear combination of rows of A_eq that results in zero, suggesting a redundant constraint. However the same linear combination of b_eq is nonzero, suggesting that the constraints conflict and the problem is infeasible.'\n",
       "      nit: 0\n",
       "    slack: array([], dtype=float64)\n",
       "   status: 2\n",
       "  success: False\n",
       "        x: array([0., 0., 0., 0., 0., 0., 0., 0., 0., 0., 0., 0., 0., 0., 0., 0., 0.,\n",
       "        0., 0., 0., 0., 0., 0., 0., 0., 0., 0., 0., 0., 0., 0., 0., 0., 0.,\n",
       "        0., 0., 0., 0., 0., 0., 0., 0., 0., 0., 0., 0., 0., 0., 0., 0., 0.,\n",
       "        0., 0., 0., 0., 0., 0., 0., 0., 0., 0., 0., 0., 0., 0., 0., 0., 0.,\n",
       "        0., 0., 0., 0., 0., 0., 0., 0., 0., 0., 0., 0., 0., 0., 0., 0., 0.,\n",
       "        0., 0., 0., 0., 0., 0., 0., 0., 0., 0., 0., 0., 0., 0., 0., 0., 0.,\n",
       "        0., 0., 0., 0., 0., 0., 0., 0., 0., 0., 0., 0., 0., 0., 0., 0., 0.,\n",
       "        0., 0., 0., 0., 0., 0., 0., 0., 0., 0., 0., 0., 0., 0., 0., 0., 0.,\n",
       "        0., 0., 0., 0., 0., 0., 0., 0., 0., 0., 0., 0., 0., 0., 0., 0., 0.,\n",
       "        0., 0., 0., 0., 0., 0., 0., 0., 0., 0., 0., 0., 0., 0., 0., 0., 0.,\n",
       "        0., 0., 0., 0., 0., 0., 0., 0., 0., 0., 0., 0., 0., 0., 0., 0., 0.,\n",
       "        0., 0., 0., 0., 0., 0., 0., 0., 0., 0., 0.]), (198,))"
      ]
     },
     "execution_count": 91,
     "metadata": {},
     "output_type": "execute_result"
    }
   ],
   "source": [
    "result, result.x.shape"
   ]
  },
  {
   "cell_type": "code",
   "execution_count": 92,
   "metadata": {},
   "outputs": [
    {
     "data": {
      "text/plain": [
       "Text(0.5, 1.0, 'smoothed values mod 1')"
      ]
     },
     "execution_count": 92,
     "metadata": {},
     "output_type": "execute_result"
    },
    {
     "data": {
      "image/png": "[encoded data removed]",
      "text/plain": [
       "<Figure size 432x288 with 2 Axes>"
      ]
     },
     "metadata": {
      "needs_background": "light"
     },
     "output_type": "display_data"
    }
   ],
   "source": [
    "Zv = np.array(result.x[:bdry.shape[1]]).reshape(-1,1)\n",
    "messed_ix = [indexing[0][dionysus.Simplex([n],0)] for n in range(Zv.shape[0])]\n",
    "color = np.mod(Zv.T[:,messed_ix],1)\n",
    "scatter(*annulus.T, c=color[0], cmap=\"hsv\")\n",
    "plt.colorbar()\n",
    "plt.axis('equal')\n",
    "plt.title('smoothed values mod 1')"
   ]
  },
  {
   "cell_type": "markdown",
   "metadata": {},
   "source": [
    "## $L_\\infty$\n",
    "\n",
    "$$\n",
    "\\min_z \\|f + Bz\\|_\\infty\n",
    "$$\n",
    "\n",
    "is equivalent to\n",
    "\n",
    "$$\n",
    "\\min_{z,t} t\n",
    "\\quad\\text{subject to}\n",
    "-t\\mathbb{1} \\leq f+Bz\\leq t\\mathbb{1}\n",
    "$$"
   ]
  },
  {
   "cell_type": "markdown",
   "metadata": {},
   "source": [
    "The constraints translate to:\n",
    "\n",
    "$$\n",
    "\\begin{bmatrix}\n",
    "B & -\\mathbb{1}\n",
    "\\end{bmatrix}\n",
    "\\begin{bmatrix}\n",
    "z \\\\ t\n",
    "\\end{bmatrix}\n",
    "\\leq -f\n",
    "\\qquad\n",
    "\\begin{bmatrix}\n",
    "-B & -\\mathbb{1}\n",
    "\\end{bmatrix}\n",
    "\\begin{bmatrix}\n",
    "z \\\\ t\n",
    "\\end{bmatrix}\n",
    "\\leq f\n",
    "$$\n"
   ]
  },
  {
   "cell_type": "markdown",
   "metadata": {},
   "source": [
    "which in turn can be rewritten as\n",
    "\n",
    "$$\n",
    "\\begin{bmatrix}\n",
    "B & -\\mathbb{1} \\\\\n",
    "-B & -\\mathbb{1}\n",
    "\\end{bmatrix}\n",
    "\\begin{bmatrix}\n",
    "z \\\\ t\n",
    "\\end{bmatrix}\n",
    "\\leq \n",
    "\\begin{bmatrix}\n",
    "-f \\\\ f\n",
    "\\end{bmatrix}\n",
    "$$"
   ]
  },
  {
   "cell_type": "code",
   "execution_count": 93,
   "metadata": {},
   "outputs": [],
   "source": [
    "### L_∞\n",
    "\n",
    "## z, t concatenate to form the vector zt to be optimized.\n",
    "## Aub and Alb encode the inequalities, with bub and blb the constants\n",
    "\n",
    "zt = r_[zeros((bdry.shape[1],)), 1]\n",
    "Aub = r_[c_[bdry, -ones((bdry.shape[0],))], c_[-bdry, -ones((bdry.shape[0],))]]\n",
    "bub = r_[-f, f]"
   ]
  },
  {
   "cell_type": "code",
   "execution_count": 94,
   "metadata": {},
   "outputs": [
    {
     "data": {
      "text/plain": [
       "((67,), (3220, 67), (3220, 1))"
      ]
     },
     "execution_count": 94,
     "metadata": {},
     "output_type": "execute_result"
    }
   ],
   "source": [
    "zt.shape, Aub.shape, bub.shape"
   ]
  },
  {
   "cell_type": "code",
   "execution_count": 95,
   "metadata": {},
   "outputs": [],
   "source": [
    "result = linprog(zt,\n",
    "                 A_ub = Aub,\n",
    "                 b_ub = bub,\n",
    "                 bounds = [(None,None)]*bdry.shape[1] + [(0, None)]\n",
    "       )"
   ]
  },
  {
   "cell_type": "code",
   "execution_count": 96,
   "metadata": {},
   "outputs": [
    {
     "data": {
      "text/plain": [
       "     con: array([], dtype=float64)\n",
       "     fun: 0.0\n",
       " message: \"Phase 1 of the simplex method failed to find a feasible solution. The pseudo-objective function evaluates to 6.0e+01 which exceeds the required tolerance of 1e-12 for a solution to be considered 'close enough' to zero to be a basic solution. Consider increasing the tolerance to be greater than 6.0e+01. If this tolerance is unacceptably  large the problem may be infeasible.\"\n",
       "     nit: 1000\n",
       "   slack: array([-0., -0., -0., ...,  0.,  0.,  0.])\n",
       "  status: 2\n",
       " success: False\n",
       "       x: array([0., 0., 0., 0., 0., 0., 0., 0., 0., 0., 0., 0., 0., 0., 0., 0., 0.,\n",
       "       0., 0., 0., 0., 0., 0., 0., 0., 0., 0., 0., 0., 0., 0., 0., 0., 0.,\n",
       "       0., 0., 0., 0., 0., 0., 0., 0., 0., 0., 0., 0., 0., 0., 0., 0., 0.,\n",
       "       0., 0., 0., 0., 0., 0., 0., 0., 0., 0., 0., 0., 0., 0., 0., 0.])"
      ]
     },
     "execution_count": 96,
     "metadata": {},
     "output_type": "execute_result"
    }
   ],
   "source": [
    "result"
   ]
  },
  {
   "cell_type": "code",
   "execution_count": 97,
   "metadata": {},
   "outputs": [
    {
     "data": {
      "text/plain": [
       "Text(0.5, 1.0, 'smoothed values mod 1')"
      ]
     },
     "execution_count": 97,
     "metadata": {},
     "output_type": "execute_result"
    },
    {
     "data": {
      "image/png": "[encoded data removed]",
      "text/plain": [
       "<Figure size 432x288 with 2 Axes>"
      ]
     },
     "metadata": {
      "needs_background": "light"
     },
     "output_type": "display_data"
    }
   ],
   "source": [
    "Zv = np.array(result.x[:bdry.shape[1]]).reshape(-1,1)\n",
    "messed_ix = [indexing[0][dionysus.Simplex([n],0)] for n in range(Zv.shape[0])]\n",
    "color = np.mod(Zv.T[:,messed_ix],1)\n",
    "scatter(*annulus.T, c=color[0], cmap=\"hsv\")\n",
    "plt.colorbar()\n",
    "plt.axis('equal')\n",
    "plt.title('smoothed values mod 1')"
   ]
  },
  {
   "cell_type": "code",
   "execution_count": null,
   "metadata": {},
   "outputs": [],
   "source": []
  }
 ],
 "metadata": {
  "kernelspec": {
   "display_name": "Python 3",
   "language": "python",
   "name": "python3"
  },
  "language_info": {
   "codemirror_mode": {
    "name": "ipython",
    "version": 3
   },
   "file_extension": ".py",
   "mimetype": "text/x-python",
   "name": "python",
   "nbconvert_exporter": "python",
   "pygments_lexer": "ipython3",
   "version": "3.7.2"
  }
 },
 "nbformat": 4,
 "nbformat_minor": 2
}
